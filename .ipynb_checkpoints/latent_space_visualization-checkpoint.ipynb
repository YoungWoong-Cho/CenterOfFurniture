{
 "cells": [
  {
   "cell_type": "code",
   "execution_count": 4,
   "id": "fabulous-eight",
   "metadata": {},
   "outputs": [
    {
     "name": "stderr",
     "output_type": "stream",
     "text": [
      "\r",
      "  0%|                                                                                        | 0/32402 [00:00<?, ?it/s]"
     ]
    },
    {
     "name": "stdout",
     "output_type": "stream",
     "text": [
      "Loading lamps dataset...\n",
      "lamps dataset loaded successfully.\n",
      "Loading chairs dataset...\n",
      "chairs dataset loaded successfully.\n"
     ]
    },
    {
     "name": "stderr",
     "output_type": "stream",
     "text": [
      "[32401/32401]: 100%|████████████████████████████████████████████████████████████| 32402/32402 [02:53<00:00, 187.24it/s]\n",
      "[22052/22052]: 100%|████████████████████████████████████████████████████████████| 22053/22053 [01:47<00:00, 205.16it/s]\n"
     ]
    }
   ],
   "source": [
    "from dataset import FurnitureDataset\n",
    "from models import *\n",
    "from PIL import Image\n",
    "from torch.utils.data import DataLoader\n",
    "from torchvision import transforms\n",
    "from tqdm import tqdm\n",
    "import argparse\n",
    "import os\n",
    "import torch\n",
    "import matplotlib.pyplot as plt\n",
    "import numpy as np\n",
    "import pandas as pd\n",
    "\n",
    "\n",
    "# Define arguments\n",
    "encoding_dim = 32\n",
    "img_size = 128\n",
    "mode = 'encode'\n",
    "model_name = 'lamps_chairs'\n",
    "\n",
    "# Device configuration\n",
    "device = torch.device('cuda')\n",
    "\n",
    "# Prepare image\n",
    "furnitures = model_name.split('_')\n",
    "furniture_dataloader = []\n",
    "for furniture_type in furnitures:\n",
    "    dataset = FurnitureDataset(furniture_type, img_size)\n",
    "    dataloader = DataLoader(dataset)\n",
    "    furniture_dataloader.append(dataloader)\n",
    "\n",
    "# Load encoder model\n",
    "encoder = Encoder(encoding_dim, img_size).to(device)\n",
    "encoder_path = os.path.join('./weights', f'{model_name}_encoder.pth')\n",
    "encoder.load_state_dict(torch.load(encoder_path))\n",
    "\n",
    "# Create latent space\n",
    "# Create dictionary for each furniture type so that the latent vector distribution can be analyzed separately\n",
    "latent_vector = [{'vector': [], 'label': []} for _ in range(len(furnitures))]\n",
    "\n",
    "for furniture_idx, dataloader in enumerate(furniture_dataloader):\n",
    "    progress = tqdm(enumerate(dataloader), total=len(dataloader))\n",
    "    for i, data in progress:\n",
    "        # Encode\n",
    "        furniture_item = data['item'].to(device)\n",
    "        furniture_item = furniture_item.view(furniture_item.shape[0], -1)\n",
    "        furniture_item_encoded = encoder(furniture_item)\n",
    "\n",
    "        # Populate latent space\n",
    "        furniture_type = data['type'][0]\n",
    "        latent_vector[furniture_idx]['vector'].append(furniture_item_encoded.cpu().detach().numpy())\n",
    "        latent_vector[furniture_idx]['label'].append(furniture_type)\n",
    "\n",
    "        # Verbose\n",
    "        progress.set_description(\n",
    "        f'[{i}/{len(dataloader) - 1}]')\n",
    "\n",
    "img_shape = (latent_vector[0]['vector'][0].shape)\n",
    "flatten_shape = np.prod(img_shape)\n",
    "\n",
    "# latent space\n",
    "latent_vector_np = [np.vstack( latent_vector[i]['vector'] ) for i in range(len(furnitures))]\n",
    "latent_vector_pd = [pd.DataFrame(data=latent_vector_np[i]) for i in range(len(furnitures))]\n",
    "\n",
    "# Load decoder model\n",
    "decoder = Decoder(encoding_dim, img_size).to(device)\n",
    "decoder_path = os.path.join('./weights', f'{model_name}_decoder.pth')\n",
    "decoder.load_state_dict(torch.load(decoder_path))\n",
    "\n",
    "print(encoder)\n",
    "print(decoder)\n",
    "\n",
    "# Input latent vector\n",
    "vector_i = latent_vector_pd[0].mean()\n",
    "vector_f = latent_vector_pd[1].mean()\n",
    "num_vectors = 10\n",
    "unit_vector = (vector_f-vector_i)/num_vectors\n",
    "\n",
    "latent_vector_inputs = [torch.from_numpy((vector_i+i*unit_vector).to_numpy()).to(device) for i in range(num_vectors)]\n",
    "\n",
    "print(latent_vector_inputs[0])\n",
    "\n",
    "# latent_vector_pd[0].mean()\n",
    "# latent_vector_input_np = ((latent_vector_pd[0].mean() + latent_vector_pd[1].mean())/2).to_numpy()\n",
    "# latent_vector_input = torch.from_numpy(latent_vector_input_np).to(device)\n",
    "\n",
    "imgs = []\n",
    "for idx, latent_vector_input in enumerate(latent_vector_inputs):\n",
    "    output = decoder(latent_vector_input)\n",
    "    output_reshape = torch.reshape(output, (3, img_size, img_size)).cpu().detach()\n",
    "    im = transforms.ToPILImage()(output_reshape).convert(\"RGB\")\n",
    "    imgs.append(im)\n",
    "\n",
    "imgs[0].save(f'{model_name}.gif', save_all=True, append_images=imgs[1:], loop=0)"
   ]
  },
  {
   "cell_type": "code",
   "execution_count": 5,
   "id": "graphic-environment",
   "metadata": {
    "scrolled": true
   },
   "outputs": [
    {
     "name": "stdout",
     "output_type": "stream",
     "text": [
      "Encoder(\n",
      "  (model): Sequential(\n",
      "    (0): Linear(in_features=49152, out_features=128, bias=True)\n",
      "    (1): ReLU()\n",
      "    (2): Linear(in_features=128, out_features=64, bias=True)\n",
      "    (3): ReLU()\n",
      "    (4): Linear(in_features=64, out_features=32, bias=True)\n",
      "    (5): ReLU()\n",
      "  )\n",
      ")\n",
      "Decoder(\n",
      "  (model): Sequential(\n",
      "    (0): Linear(in_features=32, out_features=64, bias=True)\n",
      "    (1): ReLU()\n",
      "    (2): Linear(in_features=64, out_features=128, bias=True)\n",
      "    (3): ReLU()\n",
      "    (4): Linear(in_features=128, out_features=49152, bias=True)\n",
      "    (5): Sigmoid()\n",
      "  )\n",
      ")\n",
      "tensor([11.3430,  0.0000,  0.2125, 16.2665, 14.1849,  8.6936,  0.0000,  8.5362,\n",
      "         0.3164, 12.7509, 12.9619,  0.0000,  9.2047,  4.5322, 12.8002,  0.0000,\n",
      "         0.0000,  0.0000, 19.6764, 17.2859,  0.7892, 23.2051,  1.5694, 17.4263,\n",
      "         0.0000,  0.0000,  0.0880, 13.4390,  0.2426, 12.4272, 11.8125,  0.0000],\n",
      "       device='cuda:0')\n"
     ]
    }
   ],
   "source": [
    "img_shape = (latent_vector[0]['vector'][0].shape)\n",
    "flatten_shape = np.prod(img_shape)\n",
    "\n",
    "# latent space\n",
    "latent_vector_np = [np.vstack( latent_vector[i]['vector'] ) for i in range(len(furnitures))]\n",
    "latent_vector_pd = [pd.DataFrame(data=latent_vector_np[i]) for i in range(len(furnitures))]\n",
    "\n",
    "# Load decoder model\n",
    "decoder = Decoder(encoding_dim, img_size).to(device)\n",
    "decoder_path = os.path.join('./weights', f'{model_name}_decoder.pth')\n",
    "decoder.load_state_dict(torch.load(decoder_path))\n",
    "\n",
    "print(encoder)\n",
    "print(decoder)\n",
    "\n",
    "# Input latent vector\n",
    "vector_i = latent_vector_pd[0].mean()\n",
    "vector_f = latent_vector_pd[1].mean()\n",
    "num_vectors = 10\n",
    "unit_vector = (vector_f-vector_i)/num_vectors\n",
    "\n",
    "latent_vector_inputs = [torch.from_numpy((vector_i+i*unit_vector).to_numpy()).to(device) for i in range(num_vectors)]\n",
    "\n",
    "print(latent_vector_inputs[0])\n",
    "\n",
    "# latent_vector_pd[0].mean()\n",
    "# latent_vector_input_np = ((latent_vector_pd[0].mean() + latent_vector_pd[1].mean())/2).to_numpy()\n",
    "# latent_vector_input = torch.from_numpy(latent_vector_input_np).to(device)\n",
    "\n",
    "imgs = []\n",
    "for idx, latent_vector_input in enumerate(latent_vector_inputs):\n",
    "    output = decoder(latent_vector_input)\n",
    "    output_reshape = torch.reshape(output, (3, img_size, img_size)).cpu().detach()\n",
    "    im = transforms.ToPILImage()(output_reshape).convert(\"RGB\")\n",
    "    imgs.append(im)\n",
    "\n",
    "imgs[0].save(f'{model_name}.gif', save_all=True, append_images=imgs[1:], loop=0)"
   ]
  },
  {
   "cell_type": "code",
   "execution_count": 47,
   "id": "american-beaver",
   "metadata": {},
   "outputs": [
    {
     "ename": "ValueError",
     "evalue": "Must pass 2-d input. shape=(22053, 16, 32, 32)",
     "output_type": "error",
     "traceback": [
      "\u001b[1;31m---------------------------------------------------------------------------\u001b[0m",
      "\u001b[1;31mValueError\u001b[0m                                Traceback (most recent call last)",
      "\u001b[1;32m<ipython-input-47-6c5c207243ac>\u001b[0m in \u001b[0;36m<module>\u001b[1;34m\u001b[0m\n\u001b[1;32m----> 1\u001b[1;33m \u001b[0mlatent_vector_pd\u001b[0m \u001b[1;33m=\u001b[0m \u001b[0mpd\u001b[0m\u001b[1;33m.\u001b[0m\u001b[0mDataFrame\u001b[0m\u001b[1;33m(\u001b[0m\u001b[0mdata\u001b[0m\u001b[1;33m=\u001b[0m\u001b[0mlatent_vector_np\u001b[0m\u001b[1;33m[\u001b[0m\u001b[1;36m0\u001b[0m\u001b[1;33m]\u001b[0m\u001b[1;33m)\u001b[0m\u001b[1;33m\u001b[0m\u001b[0m\n\u001b[0m",
      "\u001b[1;32m~\\anaconda3\\envs\\ML\\lib\\site-packages\\pandas\\core\\frame.py\u001b[0m in \u001b[0;36m__init__\u001b[1;34m(self, data, index, columns, dtype, copy)\u001b[0m\n\u001b[0;32m    495\u001b[0m                 \u001b[0mmgr\u001b[0m \u001b[1;33m=\u001b[0m \u001b[0minit_dict\u001b[0m\u001b[1;33m(\u001b[0m\u001b[1;33m{\u001b[0m\u001b[0mdata\u001b[0m\u001b[1;33m.\u001b[0m\u001b[0mname\u001b[0m\u001b[1;33m:\u001b[0m \u001b[0mdata\u001b[0m\u001b[1;33m}\u001b[0m\u001b[1;33m,\u001b[0m \u001b[0mindex\u001b[0m\u001b[1;33m,\u001b[0m \u001b[0mcolumns\u001b[0m\u001b[1;33m,\u001b[0m \u001b[0mdtype\u001b[0m\u001b[1;33m=\u001b[0m\u001b[0mdtype\u001b[0m\u001b[1;33m)\u001b[0m\u001b[1;33m\u001b[0m\u001b[0m\n\u001b[0;32m    496\u001b[0m             \u001b[1;32melse\u001b[0m\u001b[1;33m:\u001b[0m\u001b[1;33m\u001b[0m\u001b[0m\n\u001b[1;32m--> 497\u001b[1;33m                 \u001b[0mmgr\u001b[0m \u001b[1;33m=\u001b[0m \u001b[0minit_ndarray\u001b[0m\u001b[1;33m(\u001b[0m\u001b[0mdata\u001b[0m\u001b[1;33m,\u001b[0m \u001b[0mindex\u001b[0m\u001b[1;33m,\u001b[0m \u001b[0mcolumns\u001b[0m\u001b[1;33m,\u001b[0m \u001b[0mdtype\u001b[0m\u001b[1;33m=\u001b[0m\u001b[0mdtype\u001b[0m\u001b[1;33m,\u001b[0m \u001b[0mcopy\u001b[0m\u001b[1;33m=\u001b[0m\u001b[0mcopy\u001b[0m\u001b[1;33m)\u001b[0m\u001b[1;33m\u001b[0m\u001b[0m\n\u001b[0m\u001b[0;32m    498\u001b[0m \u001b[1;33m\u001b[0m\u001b[0m\n\u001b[0;32m    499\u001b[0m         \u001b[1;31m# For data is list-like, or Iterable (will consume into list)\u001b[0m\u001b[1;33m\u001b[0m\u001b[1;33m\u001b[0m\u001b[0m\n",
      "\u001b[1;32m~\\anaconda3\\envs\\ML\\lib\\site-packages\\pandas\\core\\internals\\construction.py\u001b[0m in \u001b[0;36minit_ndarray\u001b[1;34m(values, index, columns, dtype, copy)\u001b[0m\n\u001b[0;32m    188\u001b[0m     \u001b[1;31m# by definition an array here\u001b[0m\u001b[1;33m\u001b[0m\u001b[1;33m\u001b[0m\u001b[0m\n\u001b[0;32m    189\u001b[0m     \u001b[1;31m# the dtypes will be coerced to a single dtype\u001b[0m\u001b[1;33m\u001b[0m\u001b[1;33m\u001b[0m\u001b[0m\n\u001b[1;32m--> 190\u001b[1;33m     \u001b[0mvalues\u001b[0m \u001b[1;33m=\u001b[0m \u001b[0m_prep_ndarray\u001b[0m\u001b[1;33m(\u001b[0m\u001b[0mvalues\u001b[0m\u001b[1;33m,\u001b[0m \u001b[0mcopy\u001b[0m\u001b[1;33m=\u001b[0m\u001b[0mcopy\u001b[0m\u001b[1;33m)\u001b[0m\u001b[1;33m\u001b[0m\u001b[0m\n\u001b[0m\u001b[0;32m    191\u001b[0m \u001b[1;33m\u001b[0m\u001b[0m\n\u001b[0;32m    192\u001b[0m     \u001b[1;32mif\u001b[0m \u001b[0mdtype\u001b[0m \u001b[1;32mis\u001b[0m \u001b[1;32mnot\u001b[0m \u001b[1;32mNone\u001b[0m\u001b[1;33m:\u001b[0m\u001b[1;33m\u001b[0m\u001b[0m\n",
      "\u001b[1;32m~\\anaconda3\\envs\\ML\\lib\\site-packages\\pandas\\core\\internals\\construction.py\u001b[0m in \u001b[0;36m_prep_ndarray\u001b[1;34m(values, copy)\u001b[0m\n\u001b[0;32m    322\u001b[0m         \u001b[0mvalues\u001b[0m \u001b[1;33m=\u001b[0m \u001b[0mvalues\u001b[0m\u001b[1;33m.\u001b[0m\u001b[0mreshape\u001b[0m\u001b[1;33m(\u001b[0m\u001b[1;33m(\u001b[0m\u001b[0mvalues\u001b[0m\u001b[1;33m.\u001b[0m\u001b[0mshape\u001b[0m\u001b[1;33m[\u001b[0m\u001b[1;36m0\u001b[0m\u001b[1;33m]\u001b[0m\u001b[1;33m,\u001b[0m \u001b[1;36m1\u001b[0m\u001b[1;33m)\u001b[0m\u001b[1;33m)\u001b[0m\u001b[1;33m\u001b[0m\u001b[0m\n\u001b[0;32m    323\u001b[0m     \u001b[1;32melif\u001b[0m \u001b[0mvalues\u001b[0m\u001b[1;33m.\u001b[0m\u001b[0mndim\u001b[0m \u001b[1;33m!=\u001b[0m \u001b[1;36m2\u001b[0m\u001b[1;33m:\u001b[0m\u001b[1;33m\u001b[0m\u001b[0m\n\u001b[1;32m--> 324\u001b[1;33m         \u001b[1;32mraise\u001b[0m \u001b[0mValueError\u001b[0m\u001b[1;33m(\u001b[0m\u001b[1;34mf\"Must pass 2-d input. shape={values.shape}\"\u001b[0m\u001b[1;33m)\u001b[0m\u001b[1;33m\u001b[0m\u001b[0m\n\u001b[0m\u001b[0;32m    325\u001b[0m \u001b[1;33m\u001b[0m\u001b[0m\n\u001b[0;32m    326\u001b[0m     \u001b[1;32mreturn\u001b[0m \u001b[0mvalues\u001b[0m\u001b[1;33m\u001b[0m\u001b[0m\n",
      "\u001b[1;31mValueError\u001b[0m: Must pass 2-d input. shape=(22053, 16, 32, 32)"
     ]
    }
   ],
   "source": [
    "latent_vector_pd = pd.DataFrame(data=latent_vector_np[0])"
   ]
  },
  {
   "cell_type": "code",
   "execution_count": 20,
   "id": "bulgarian-plane",
   "metadata": {},
   "outputs": [
    {
     "name": "stdout",
     "output_type": "stream",
     "text": [
      "2\n",
      "(17100, 32)\n"
     ]
    }
   ],
   "source": [
    "print(len(latent_vector_np))\n",
    "print(latent_vector_np[0].shape)"
   ]
  }
 ],
 "metadata": {
  "kernelspec": {
   "display_name": "Python 3",
   "language": "python",
   "name": "python3"
  },
  "language_info": {
   "codemirror_mode": {
    "name": "ipython",
    "version": 3
   },
   "file_extension": ".py",
   "mimetype": "text/x-python",
   "name": "python",
   "nbconvert_exporter": "python",
   "pygments_lexer": "ipython3",
   "version": "3.7.5"
  }
 },
 "nbformat": 4,
 "nbformat_minor": 5
}
